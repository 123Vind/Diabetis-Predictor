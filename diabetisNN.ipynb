{
  "nbformat": 4,
  "nbformat_minor": 0,
  "metadata": {
    "colab": {
      "name": "diabetisNN.ipynb",
      "provenance": [],
      "collapsed_sections": []
    },
    "kernelspec": {
      "name": "python3",
      "display_name": "Python 3"
    },
    "language_info": {
      "name": "python"
    }
  },
  "cells": [
    {
      "cell_type": "code",
      "source": [
        "!pip install imbalanced-learn"
      ],
      "metadata": {
        "colab": {
          "base_uri": "https://localhost:8080/"
        },
        "id": "xz1oFLk2uDOn",
        "outputId": "a1188b20-0daa-4f9c-92b6-535077671003"
      },
      "execution_count": 1,
      "outputs": [
        {
          "output_type": "stream",
          "name": "stdout",
          "text": [
            "Looking in indexes: https://pypi.org/simple, https://us-python.pkg.dev/colab-wheels/public/simple/\n",
            "Requirement already satisfied: imbalanced-learn in /usr/local/lib/python3.7/dist-packages (0.8.1)\n",
            "Requirement already satisfied: numpy>=1.13.3 in /usr/local/lib/python3.7/dist-packages (from imbalanced-learn) (1.21.6)\n",
            "Requirement already satisfied: scikit-learn>=0.24 in /usr/local/lib/python3.7/dist-packages (from imbalanced-learn) (1.0.2)\n",
            "Requirement already satisfied: joblib>=0.11 in /usr/local/lib/python3.7/dist-packages (from imbalanced-learn) (1.1.0)\n",
            "Requirement already satisfied: scipy>=0.19.1 in /usr/local/lib/python3.7/dist-packages (from imbalanced-learn) (1.7.3)\n",
            "Requirement already satisfied: threadpoolctl>=2.0.0 in /usr/local/lib/python3.7/dist-packages (from scikit-learn>=0.24->imbalanced-learn) (3.1.0)\n"
          ]
        }
      ]
    },
    {
      "cell_type": "code",
      "execution_count": 2,
      "metadata": {
        "id": "Dv7LAgIW8023"
      },
      "outputs": [],
      "source": [
        "import tensorflow as tf\n",
        "import numpy as np\n",
        "import pandas as pd\n",
        "\n",
        "from sklearn import metrics\n",
        "from sklearn.model_selection import train_test_split\n",
        "from sklearn.metrics import confusion_matrix\n",
        "from sklearn.metrics import classification_report\n",
        "from tensorflow.keras.models import Sequential\n",
        "from tensorflow.keras.layers import Dense\n",
        "from tensorflow.keras.utils import to_categorical\n",
        "from sklearn.preprocessing import MinMaxScaler\n",
        "from imblearn.over_sampling import SMOTE\n",
        "from imblearn.under_sampling import TomekLinks\n"
      ]
    },
    {
      "cell_type": "code",
      "source": [
        "#importing dataset from google drive\n",
        "from google.colab import drive\n",
        "drive.mount('/content/drive')\n"
      ],
      "metadata": {
        "colab": {
          "base_uri": "https://localhost:8080/"
        },
        "id": "GRRg-Yy_989m",
        "outputId": "2fec63e8-c2b5-4aaf-8c66-08f4b239f5a7"
      },
      "execution_count": 3,
      "outputs": [
        {
          "output_type": "stream",
          "name": "stdout",
          "text": [
            "Mounted at /content/drive\n"
          ]
        }
      ]
    },
    {
      "cell_type": "code",
      "source": [
        "diabetis =  pd.read_csv('/content/drive/My Drive/Colab Notebooks/diabetis.csv',header = None)"
      ],
      "metadata": {
        "id": "5mQ3rEFd8_X2"
      },
      "execution_count": 4,
      "outputs": []
    },
    {
      "cell_type": "code",
      "source": [
        "diabetis.head"
      ],
      "metadata": {
        "colab": {
          "base_uri": "https://localhost:8080/"
        },
        "id": "gRXo_4T7-OPi",
        "outputId": "d63cb7c7-dc34-4aed-a630-d95c3c988af4"
      },
      "execution_count": 5,
      "outputs": [
        {
          "output_type": "execute_result",
          "data": {
            "text/plain": [
              "<bound method NDFrame.head of       0    1   2   3    4     5      6   7  8\n",
              "0     6  148  72  35    0  33.6  0.627  50  1\n",
              "1     1   85  66  29    0  26.6  0.351  31  0\n",
              "2     8  183  64   0    0  23.3  0.672  32  1\n",
              "3     1   89  66  23   94  28.1  0.167  21  0\n",
              "4     0  137  40  35  168  43.1  2.288  33  1\n",
              "..   ..  ...  ..  ..  ...   ...    ...  .. ..\n",
              "763  10  101  76  48  180  32.9  0.171  63  0\n",
              "764   2  122  70  27    0  36.8  0.340  27  0\n",
              "765   5  121  72  23  112  26.2  0.245  30  0\n",
              "766   1  126  60   0    0  30.1  0.349  47  1\n",
              "767   1   93  70  31    0  30.4  0.315  23  0\n",
              "\n",
              "[768 rows x 9 columns]>"
            ]
          },
          "metadata": {},
          "execution_count": 5
        }
      ]
    },
    {
      "cell_type": "code",
      "source": [
        "X = diabetis.iloc[:,:-1]\n",
        "y = diabetis.iloc[:,-1]\n"
      ],
      "metadata": {
        "id": "Wr4e-b21-RNS"
      },
      "execution_count": 6,
      "outputs": []
    },
    {
      "cell_type": "code",
      "source": [
        "#scaling the training data\n",
        "scaler = MinMaxScaler()\n",
        "X_scaled = scaler.fit_transform(X)\n"
      ],
      "metadata": {
        "id": "bsabFBPZLc90"
      },
      "execution_count": 7,
      "outputs": []
    },
    {
      "cell_type": "code",
      "source": [
        "X"
      ],
      "metadata": {
        "colab": {
          "base_uri": "https://localhost:8080/",
          "height": 423
        },
        "id": "ZyFg5Cb--pzY",
        "outputId": "081978ff-b035-44d7-8423-6e50ffba19aa"
      },
      "execution_count": 8,
      "outputs": [
        {
          "output_type": "execute_result",
          "data": {
            "text/plain": [
              "      0    1   2   3    4     5      6   7\n",
              "0     6  148  72  35    0  33.6  0.627  50\n",
              "1     1   85  66  29    0  26.6  0.351  31\n",
              "2     8  183  64   0    0  23.3  0.672  32\n",
              "3     1   89  66  23   94  28.1  0.167  21\n",
              "4     0  137  40  35  168  43.1  2.288  33\n",
              "..   ..  ...  ..  ..  ...   ...    ...  ..\n",
              "763  10  101  76  48  180  32.9  0.171  63\n",
              "764   2  122  70  27    0  36.8  0.340  27\n",
              "765   5  121  72  23  112  26.2  0.245  30\n",
              "766   1  126  60   0    0  30.1  0.349  47\n",
              "767   1   93  70  31    0  30.4  0.315  23\n",
              "\n",
              "[768 rows x 8 columns]"
            ],
            "text/html": [
              "\n",
              "  <div id=\"df-281de86f-5a75-40da-b671-18b6759517c9\">\n",
              "    <div class=\"colab-df-container\">\n",
              "      <div>\n",
              "<style scoped>\n",
              "    .dataframe tbody tr th:only-of-type {\n",
              "        vertical-align: middle;\n",
              "    }\n",
              "\n",
              "    .dataframe tbody tr th {\n",
              "        vertical-align: top;\n",
              "    }\n",
              "\n",
              "    .dataframe thead th {\n",
              "        text-align: right;\n",
              "    }\n",
              "</style>\n",
              "<table border=\"1\" class=\"dataframe\">\n",
              "  <thead>\n",
              "    <tr style=\"text-align: right;\">\n",
              "      <th></th>\n",
              "      <th>0</th>\n",
              "      <th>1</th>\n",
              "      <th>2</th>\n",
              "      <th>3</th>\n",
              "      <th>4</th>\n",
              "      <th>5</th>\n",
              "      <th>6</th>\n",
              "      <th>7</th>\n",
              "    </tr>\n",
              "  </thead>\n",
              "  <tbody>\n",
              "    <tr>\n",
              "      <th>0</th>\n",
              "      <td>6</td>\n",
              "      <td>148</td>\n",
              "      <td>72</td>\n",
              "      <td>35</td>\n",
              "      <td>0</td>\n",
              "      <td>33.6</td>\n",
              "      <td>0.627</td>\n",
              "      <td>50</td>\n",
              "    </tr>\n",
              "    <tr>\n",
              "      <th>1</th>\n",
              "      <td>1</td>\n",
              "      <td>85</td>\n",
              "      <td>66</td>\n",
              "      <td>29</td>\n",
              "      <td>0</td>\n",
              "      <td>26.6</td>\n",
              "      <td>0.351</td>\n",
              "      <td>31</td>\n",
              "    </tr>\n",
              "    <tr>\n",
              "      <th>2</th>\n",
              "      <td>8</td>\n",
              "      <td>183</td>\n",
              "      <td>64</td>\n",
              "      <td>0</td>\n",
              "      <td>0</td>\n",
              "      <td>23.3</td>\n",
              "      <td>0.672</td>\n",
              "      <td>32</td>\n",
              "    </tr>\n",
              "    <tr>\n",
              "      <th>3</th>\n",
              "      <td>1</td>\n",
              "      <td>89</td>\n",
              "      <td>66</td>\n",
              "      <td>23</td>\n",
              "      <td>94</td>\n",
              "      <td>28.1</td>\n",
              "      <td>0.167</td>\n",
              "      <td>21</td>\n",
              "    </tr>\n",
              "    <tr>\n",
              "      <th>4</th>\n",
              "      <td>0</td>\n",
              "      <td>137</td>\n",
              "      <td>40</td>\n",
              "      <td>35</td>\n",
              "      <td>168</td>\n",
              "      <td>43.1</td>\n",
              "      <td>2.288</td>\n",
              "      <td>33</td>\n",
              "    </tr>\n",
              "    <tr>\n",
              "      <th>...</th>\n",
              "      <td>...</td>\n",
              "      <td>...</td>\n",
              "      <td>...</td>\n",
              "      <td>...</td>\n",
              "      <td>...</td>\n",
              "      <td>...</td>\n",
              "      <td>...</td>\n",
              "      <td>...</td>\n",
              "    </tr>\n",
              "    <tr>\n",
              "      <th>763</th>\n",
              "      <td>10</td>\n",
              "      <td>101</td>\n",
              "      <td>76</td>\n",
              "      <td>48</td>\n",
              "      <td>180</td>\n",
              "      <td>32.9</td>\n",
              "      <td>0.171</td>\n",
              "      <td>63</td>\n",
              "    </tr>\n",
              "    <tr>\n",
              "      <th>764</th>\n",
              "      <td>2</td>\n",
              "      <td>122</td>\n",
              "      <td>70</td>\n",
              "      <td>27</td>\n",
              "      <td>0</td>\n",
              "      <td>36.8</td>\n",
              "      <td>0.340</td>\n",
              "      <td>27</td>\n",
              "    </tr>\n",
              "    <tr>\n",
              "      <th>765</th>\n",
              "      <td>5</td>\n",
              "      <td>121</td>\n",
              "      <td>72</td>\n",
              "      <td>23</td>\n",
              "      <td>112</td>\n",
              "      <td>26.2</td>\n",
              "      <td>0.245</td>\n",
              "      <td>30</td>\n",
              "    </tr>\n",
              "    <tr>\n",
              "      <th>766</th>\n",
              "      <td>1</td>\n",
              "      <td>126</td>\n",
              "      <td>60</td>\n",
              "      <td>0</td>\n",
              "      <td>0</td>\n",
              "      <td>30.1</td>\n",
              "      <td>0.349</td>\n",
              "      <td>47</td>\n",
              "    </tr>\n",
              "    <tr>\n",
              "      <th>767</th>\n",
              "      <td>1</td>\n",
              "      <td>93</td>\n",
              "      <td>70</td>\n",
              "      <td>31</td>\n",
              "      <td>0</td>\n",
              "      <td>30.4</td>\n",
              "      <td>0.315</td>\n",
              "      <td>23</td>\n",
              "    </tr>\n",
              "  </tbody>\n",
              "</table>\n",
              "<p>768 rows × 8 columns</p>\n",
              "</div>\n",
              "      <button class=\"colab-df-convert\" onclick=\"convertToInteractive('df-281de86f-5a75-40da-b671-18b6759517c9')\"\n",
              "              title=\"Convert this dataframe to an interactive table.\"\n",
              "              style=\"display:none;\">\n",
              "        \n",
              "  <svg xmlns=\"http://www.w3.org/2000/svg\" height=\"24px\"viewBox=\"0 0 24 24\"\n",
              "       width=\"24px\">\n",
              "    <path d=\"M0 0h24v24H0V0z\" fill=\"none\"/>\n",
              "    <path d=\"M18.56 5.44l.94 2.06.94-2.06 2.06-.94-2.06-.94-.94-2.06-.94 2.06-2.06.94zm-11 1L8.5 8.5l.94-2.06 2.06-.94-2.06-.94L8.5 2.5l-.94 2.06-2.06.94zm10 10l.94 2.06.94-2.06 2.06-.94-2.06-.94-.94-2.06-.94 2.06-2.06.94z\"/><path d=\"M17.41 7.96l-1.37-1.37c-.4-.4-.92-.59-1.43-.59-.52 0-1.04.2-1.43.59L10.3 9.45l-7.72 7.72c-.78.78-.78 2.05 0 2.83L4 21.41c.39.39.9.59 1.41.59.51 0 1.02-.2 1.41-.59l7.78-7.78 2.81-2.81c.8-.78.8-2.07 0-2.86zM5.41 20L4 18.59l7.72-7.72 1.47 1.35L5.41 20z\"/>\n",
              "  </svg>\n",
              "      </button>\n",
              "      \n",
              "  <style>\n",
              "    .colab-df-container {\n",
              "      display:flex;\n",
              "      flex-wrap:wrap;\n",
              "      gap: 12px;\n",
              "    }\n",
              "\n",
              "    .colab-df-convert {\n",
              "      background-color: #E8F0FE;\n",
              "      border: none;\n",
              "      border-radius: 50%;\n",
              "      cursor: pointer;\n",
              "      display: none;\n",
              "      fill: #1967D2;\n",
              "      height: 32px;\n",
              "      padding: 0 0 0 0;\n",
              "      width: 32px;\n",
              "    }\n",
              "\n",
              "    .colab-df-convert:hover {\n",
              "      background-color: #E2EBFA;\n",
              "      box-shadow: 0px 1px 2px rgba(60, 64, 67, 0.3), 0px 1px 3px 1px rgba(60, 64, 67, 0.15);\n",
              "      fill: #174EA6;\n",
              "    }\n",
              "\n",
              "    [theme=dark] .colab-df-convert {\n",
              "      background-color: #3B4455;\n",
              "      fill: #D2E3FC;\n",
              "    }\n",
              "\n",
              "    [theme=dark] .colab-df-convert:hover {\n",
              "      background-color: #434B5C;\n",
              "      box-shadow: 0px 1px 3px 1px rgba(0, 0, 0, 0.15);\n",
              "      filter: drop-shadow(0px 1px 2px rgba(0, 0, 0, 0.3));\n",
              "      fill: #FFFFFF;\n",
              "    }\n",
              "  </style>\n",
              "\n",
              "      <script>\n",
              "        const buttonEl =\n",
              "          document.querySelector('#df-281de86f-5a75-40da-b671-18b6759517c9 button.colab-df-convert');\n",
              "        buttonEl.style.display =\n",
              "          google.colab.kernel.accessAllowed ? 'block' : 'none';\n",
              "\n",
              "        async function convertToInteractive(key) {\n",
              "          const element = document.querySelector('#df-281de86f-5a75-40da-b671-18b6759517c9');\n",
              "          const dataTable =\n",
              "            await google.colab.kernel.invokeFunction('convertToInteractive',\n",
              "                                                     [key], {});\n",
              "          if (!dataTable) return;\n",
              "\n",
              "          const docLinkHtml = 'Like what you see? Visit the ' +\n",
              "            '<a target=\"_blank\" href=https://colab.research.google.com/notebooks/data_table.ipynb>data table notebook</a>'\n",
              "            + ' to learn more about interactive tables.';\n",
              "          element.innerHTML = '';\n",
              "          dataTable['output_type'] = 'display_data';\n",
              "          await google.colab.output.renderOutput(dataTable, element);\n",
              "          const docLink = document.createElement('div');\n",
              "          docLink.innerHTML = docLinkHtml;\n",
              "          element.appendChild(docLink);\n",
              "        }\n",
              "      </script>\n",
              "    </div>\n",
              "  </div>\n",
              "  "
            ]
          },
          "metadata": {},
          "execution_count": 8
        }
      ]
    },
    {
      "cell_type": "code",
      "source": [
        "\n",
        "y.value_counts()\n"
      ],
      "metadata": {
        "colab": {
          "base_uri": "https://localhost:8080/"
        },
        "id": "V8QxEBeX-rjh",
        "outputId": "6ac6467e-4470-402b-c8c3-b3707b855639"
      },
      "execution_count": 9,
      "outputs": [
        {
          "output_type": "execute_result",
          "data": {
            "text/plain": [
              "0    500\n",
              "1    268\n",
              "Name: 8, dtype: int64"
            ]
          },
          "metadata": {},
          "execution_count": 9
        }
      ]
    },
    {
      "cell_type": "code",
      "source": [
        ""
      ],
      "metadata": {
        "id": "xfWl-YL6y6D4"
      },
      "execution_count": 9,
      "outputs": []
    },
    {
      "cell_type": "code",
      "source": [
        "X_train, X_test, y_train, y_test = train_test_split(X_scaled,y,random_state = 2,test_size = 0.25,stratify = y)"
      ],
      "metadata": {
        "id": "KJpZg6H_-zSV"
      },
      "execution_count": 10,
      "outputs": []
    },
    {
      "cell_type": "code",
      "source": [
        "X_train"
      ],
      "metadata": {
        "colab": {
          "base_uri": "https://localhost:8080/"
        },
        "id": "9d4wrar2_Qrx",
        "outputId": "ebc5a36d-a9df-488e-bcfd-8430b46ba6d1"
      },
      "execution_count": 11,
      "outputs": [
        {
          "output_type": "execute_result",
          "data": {
            "text/plain": [
              "array([[0.        , 0.63316583, 0.70491803, ..., 0.40834575, 0.18659266,\n",
              "        0.        ],\n",
              "       [0.17647059, 0.69849246, 0.44262295, ..., 0.38152012, 0.1383433 ,\n",
              "        0.01666667],\n",
              "       [0.41176471, 0.9798995 , 0.57377049, ..., 0.37406855, 0.03629377,\n",
              "        0.56666667],\n",
              "       ...,\n",
              "       [0.64705882, 0.42713568, 0.60655738, ..., 0.4485842 , 0.09479078,\n",
              "        0.23333333],\n",
              "       [0.23529412, 0.56281407, 0.63934426, ..., 0.58718331, 0.06746371,\n",
              "        0.28333333],\n",
              "       [0.        , 0.4321608 , 0.55737705, ..., 0.53353204, 0.06831768,\n",
              "        0.06666667]])"
            ]
          },
          "metadata": {},
          "execution_count": 11
        }
      ]
    },
    {
      "cell_type": "code",
      "source": [
        "#to get rid of the unbalanced class\n",
        "oversample = SMOTE()\n",
        "X_res, y_res = oversample.fit_resample(X_train, y_train)\n",
        "#tl = TomekLinks(sampling_strategy=0.5)\n",
        "#X_res, y_res = tl.fit_resample(X,y)"
      ],
      "metadata": {
        "id": "cEL0Mjp82F_4"
      },
      "execution_count": 12,
      "outputs": []
    },
    {
      "cell_type": "code",
      "source": [
        "y_res.value_counts()"
      ],
      "metadata": {
        "colab": {
          "base_uri": "https://localhost:8080/"
        },
        "id": "ZQty7brxvf3S",
        "outputId": "9a7f581e-a3c1-4d5b-cac0-27ec6ca48f82"
      },
      "execution_count": 13,
      "outputs": [
        {
          "output_type": "execute_result",
          "data": {
            "text/plain": [
              "0    375\n",
              "1    375\n",
              "Name: 8, dtype: int64"
            ]
          },
          "metadata": {},
          "execution_count": 13
        }
      ]
    },
    {
      "cell_type": "code",
      "source": [
        "y_train.shape"
      ],
      "metadata": {
        "colab": {
          "base_uri": "https://localhost:8080/"
        },
        "id": "K0RZN3kr_U5Z",
        "outputId": "e4601cc8-fd3e-4834-ca96-40226c8719d1"
      },
      "execution_count": 14,
      "outputs": [
        {
          "output_type": "execute_result",
          "data": {
            "text/plain": [
              "(576,)"
            ]
          },
          "metadata": {},
          "execution_count": 14
        }
      ]
    },
    {
      "cell_type": "code",
      "source": [
        "y_res = to_categorical(y_res)\n",
        "y_test = to_categorical(y_test)\n",
        "num_classes = 2"
      ],
      "metadata": {
        "id": "MPRHKNb3_Yc_"
      },
      "execution_count": 15,
      "outputs": []
    },
    {
      "cell_type": "code",
      "source": [
        "X_train.shape"
      ],
      "metadata": {
        "colab": {
          "base_uri": "https://localhost:8080/"
        },
        "id": "OQypVnm4_upX",
        "outputId": "695aafd8-dde4-482d-f83f-29a8eb039c05"
      },
      "execution_count": 16,
      "outputs": [
        {
          "output_type": "execute_result",
          "data": {
            "text/plain": [
              "(576, 8)"
            ]
          },
          "metadata": {},
          "execution_count": 16
        }
      ]
    },
    {
      "cell_type": "code",
      "source": [
        "def build_model():\n",
        "  model = Sequential()\n",
        "  model.add(Dense(6,input_dim=8,activation='relu'))\n",
        "  model.add(Dense(8,activation='relu'))\n",
        "  model.add(Dense(12,activation='relu'))\n",
        "  model.add(Dense(10,activation='relu'))\n",
        "  model.add(Dense(num_classes,activation='sigmoid'))\n",
        "  model.compile(loss='categorical_crossentropy', optimizer='adam',metrics=['accuracy'])\n",
        "  return model"
      ],
      "metadata": {
        "id": "yp0E6L3a_w2P"
      },
      "execution_count": 17,
      "outputs": []
    },
    {
      "cell_type": "code",
      "source": [
        "model = build_model()"
      ],
      "metadata": {
        "id": "RgPpDMvTAmg2"
      },
      "execution_count": 18,
      "outputs": []
    },
    {
      "cell_type": "code",
      "source": [
        "y_train.shape"
      ],
      "metadata": {
        "colab": {
          "base_uri": "https://localhost:8080/"
        },
        "id": "01O_0yDhVs33",
        "outputId": "379f9153-3961-4d45-a4ad-d890bc6db50f"
      },
      "execution_count": 19,
      "outputs": [
        {
          "output_type": "execute_result",
          "data": {
            "text/plain": [
              "(576,)"
            ]
          },
          "metadata": {},
          "execution_count": 19
        }
      ]
    },
    {
      "cell_type": "code",
      "source": [
        "y_train"
      ],
      "metadata": {
        "colab": {
          "base_uri": "https://localhost:8080/"
        },
        "id": "vAsH2G_zWs-x",
        "outputId": "9b9fb6cd-dca5-49a8-badf-d315cc408011"
      },
      "execution_count": 20,
      "outputs": [
        {
          "output_type": "execute_result",
          "data": {
            "text/plain": [
              "736    0\n",
              "242    1\n",
              "498    1\n",
              "572    0\n",
              "664    1\n",
              "      ..\n",
              "212    0\n",
              "533    0\n",
              "559    0\n",
              "725    0\n",
              "253    0\n",
              "Name: 8, Length: 576, dtype: int64"
            ]
          },
          "metadata": {},
          "execution_count": 20
        }
      ]
    },
    {
      "cell_type": "code",
      "source": [
        "model.summary()\n",
        "sample_weight = np.ones(shape=(len(y_res),2))\n",
        "#sample_weight.shape\n",
        "sample_weight[y_res==[0.,1.] ] = 0.5"
      ],
      "metadata": {
        "colab": {
          "base_uri": "https://localhost:8080/"
        },
        "id": "oTs_rDjNArC_",
        "outputId": "a8ed85c9-5923-49cb-828a-59823022484f"
      },
      "execution_count": 22,
      "outputs": [
        {
          "output_type": "stream",
          "name": "stdout",
          "text": [
            "Model: \"sequential\"\n",
            "_________________________________________________________________\n",
            " Layer (type)                Output Shape              Param #   \n",
            "=================================================================\n",
            " dense (Dense)               (None, 6)                 54        \n",
            "                                                                 \n",
            " dense_1 (Dense)             (None, 8)                 56        \n",
            "                                                                 \n",
            " dense_2 (Dense)             (None, 12)                108       \n",
            "                                                                 \n",
            " dense_3 (Dense)             (None, 10)                130       \n",
            "                                                                 \n",
            " dense_4 (Dense)             (None, 2)                 22        \n",
            "                                                                 \n",
            "=================================================================\n",
            "Total params: 370\n",
            "Trainable params: 370\n",
            "Non-trainable params: 0\n",
            "_________________________________________________________________\n"
          ]
        }
      ]
    },
    {
      "cell_type": "code",
      "source": [
        "model.fit(X_res,y_res,epochs=400,verbose=2)"
      ],
      "metadata": {
        "id": "P5gDNKSVAtOA"
      },
      "execution_count": null,
      "outputs": []
    },
    {
      "cell_type": "code",
      "source": [
        "y_pred = model.predict(X_test)"
      ],
      "metadata": {
        "id": "zFhJqFs-A7gA"
      },
      "execution_count": 24,
      "outputs": []
    },
    {
      "cell_type": "code",
      "source": [
        "y_pred"
      ],
      "metadata": {
        "colab": {
          "base_uri": "https://localhost:8080/"
        },
        "id": "g8jdfW2CUI4B",
        "outputId": "d493c9b5-b7f4-4799-da76-36063b567bc5"
      },
      "execution_count": 25,
      "outputs": [
        {
          "output_type": "execute_result",
          "data": {
            "text/plain": [
              "array([[0.6757058 , 0.3996528 ],\n",
              "       [0.49408197, 0.6140089 ],\n",
              "       [0.42619896, 0.6955565 ],\n",
              "       [0.35129017, 0.77893776],\n",
              "       [0.32928377, 0.8035573 ],\n",
              "       [0.5449336 , 0.5651586 ],\n",
              "       [0.3096491 , 0.8275326 ],\n",
              "       [0.322672  , 0.8105812 ],\n",
              "       [0.36752662, 0.76189375],\n",
              "       [0.84105825, 0.17683122],\n",
              "       [0.48256055, 0.6304091 ],\n",
              "       [0.7177992 , 0.33994237],\n",
              "       [0.8987068 , 0.10729671],\n",
              "       [0.548937  , 0.5675062 ],\n",
              "       [0.34065127, 0.7895622 ],\n",
              "       [0.5459013 , 0.5759804 ],\n",
              "       [0.6178694 , 0.47144666],\n",
              "       [0.65511036, 0.43366146],\n",
              "       [0.82288885, 0.19520691],\n",
              "       [0.82651484, 0.19680601],\n",
              "       [0.7054847 , 0.3468523 ],\n",
              "       [0.95529324, 0.03777248],\n",
              "       [0.41058624, 0.7109484 ],\n",
              "       [0.82803714, 0.18756938],\n",
              "       [0.36097258, 0.7689656 ],\n",
              "       [0.83492756, 0.18833706],\n",
              "       [0.6649111 , 0.39267457],\n",
              "       [0.5254778 , 0.58232397],\n",
              "       [0.7771859 , 0.2480602 ],\n",
              "       [0.31831276, 0.81542   ],\n",
              "       [0.86578125, 0.13645065],\n",
              "       [0.56695575, 0.5266006 ],\n",
              "       [0.856266  , 0.16372609],\n",
              "       [0.5492477 , 0.55116636],\n",
              "       [0.71171635, 0.3570971 ],\n",
              "       [0.7443065 , 0.30422604],\n",
              "       [0.7497101 , 0.29572082],\n",
              "       [0.35056394, 0.7827282 ],\n",
              "       [0.78725636, 0.25093585],\n",
              "       [0.4822943 , 0.62582815],\n",
              "       [0.8552531 , 0.15637553],\n",
              "       [0.61428124, 0.47913834],\n",
              "       [0.8245978 , 0.19607499],\n",
              "       [0.9593886 , 0.03425035],\n",
              "       [0.8961947 , 0.10584423],\n",
              "       [0.6866178 , 0.37827373],\n",
              "       [0.8527691 , 0.16044322],\n",
              "       [0.58025783, 0.51825374],\n",
              "       [0.46691224, 0.65740514],\n",
              "       [0.72986925, 0.31477273],\n",
              "       [0.538913  , 0.56627977],\n",
              "       [0.94158393, 0.05581608],\n",
              "       [0.9473929 , 0.04716545],\n",
              "       [0.73514605, 0.30204523],\n",
              "       [0.36970064, 0.7587949 ],\n",
              "       [0.33288497, 0.79997414],\n",
              "       [0.5502382 , 0.5542225 ],\n",
              "       [0.7600246 , 0.28738698],\n",
              "       [0.42347312, 0.69837296],\n",
              "       [0.3578565 , 0.77932346],\n",
              "       [0.4277914 , 0.6932037 ],\n",
              "       [0.94081545, 0.05586562],\n",
              "       [0.9189389 , 0.07887703],\n",
              "       [0.6812736 , 0.37147844],\n",
              "       [0.3842544 , 0.7456436 ],\n",
              "       [0.40511325, 0.71823883],\n",
              "       [0.8225484 , 0.2035161 ],\n",
              "       [0.830326  , 0.18990242],\n",
              "       [0.3070231 , 0.8289569 ],\n",
              "       [0.49645177, 0.6173109 ],\n",
              "       [0.47433415, 0.64805204],\n",
              "       [0.4059059 , 0.7168535 ],\n",
              "       [0.9252779 , 0.06937999],\n",
              "       [0.92729986, 0.07044446],\n",
              "       [0.91537935, 0.08032387],\n",
              "       [0.81747127, 0.21173629],\n",
              "       [0.68481606, 0.37025657],\n",
              "       [0.34314615, 0.7868688 ],\n",
              "       [0.5057918 , 0.60355705],\n",
              "       [0.38829318, 0.73689497],\n",
              "       [0.46698028, 0.6548699 ],\n",
              "       [0.32653365, 0.80627555],\n",
              "       [0.73436964, 0.3164994 ],\n",
              "       [0.62629145, 0.45081767],\n",
              "       [0.78978705, 0.22667488],\n",
              "       [0.8344721 , 0.18443146],\n",
              "       [0.5144987 , 0.5977935 ],\n",
              "       [0.7542665 , 0.29270387],\n",
              "       [0.65638864, 0.41823068],\n",
              "       [0.84207153, 0.17256469],\n",
              "       [0.8938265 , 0.10555527],\n",
              "       [0.79953086, 0.24051315],\n",
              "       [0.863309  , 0.1510148 ],\n",
              "       [0.921104  , 0.07714844],\n",
              "       [0.4368631 , 0.6820723 ],\n",
              "       [0.43865034, 0.6822081 ],\n",
              "       [0.65869004, 0.41882384],\n",
              "       [0.85353386, 0.15140405],\n",
              "       [0.31655195, 0.8195176 ],\n",
              "       [0.94144744, 0.05476531],\n",
              "       [0.83870375, 0.17151934],\n",
              "       [0.60896015, 0.47318622],\n",
              "       [0.38289574, 0.7446469 ],\n",
              "       [0.5960973 , 0.48629612],\n",
              "       [0.72247624, 0.3234952 ],\n",
              "       [0.8681081 , 0.13940758],\n",
              "       [0.46949703, 0.6413256 ],\n",
              "       [0.749293  , 0.29095918],\n",
              "       [0.35092098, 0.77906895],\n",
              "       [0.7347833 , 0.31324446],\n",
              "       [0.3868718 , 0.74095666],\n",
              "       [0.6374825 , 0.44818893],\n",
              "       [0.43180138, 0.6871567 ],\n",
              "       [0.40869272, 0.7159741 ],\n",
              "       [0.6308381 , 0.4637764 ],\n",
              "       [0.4466453 , 0.66851246],\n",
              "       [0.47584328, 0.6454862 ],\n",
              "       [0.9615842 , 0.0319387 ],\n",
              "       [0.58818454, 0.5126998 ],\n",
              "       [0.5415147 , 0.5712088 ],\n",
              "       [0.7452792 , 0.30518067],\n",
              "       [0.35917705, 0.773126  ],\n",
              "       [0.958721  , 0.03493187],\n",
              "       [0.8000983 , 0.2158688 ],\n",
              "       [0.7751317 , 0.2851318 ],\n",
              "       [0.93243164, 0.06395811],\n",
              "       [0.5312455 , 0.59584427],\n",
              "       [0.75982934, 0.29399687],\n",
              "       [0.40329626, 0.72298175],\n",
              "       [0.62741095, 0.45863336],\n",
              "       [0.9416131 , 0.05067652],\n",
              "       [0.35079306, 0.77954304],\n",
              "       [0.6340029 , 0.45840582],\n",
              "       [0.90753186, 0.09942988],\n",
              "       [0.36587328, 0.76566267],\n",
              "       [0.6201211 , 0.46000183],\n",
              "       [0.74375963, 0.29221702],\n",
              "       [0.49183825, 0.6252425 ],\n",
              "       [0.88323003, 0.12389007],\n",
              "       [0.7255007 , 0.33963022],\n",
              "       [0.8121866 , 0.20408931],\n",
              "       [0.5849854 , 0.5130693 ],\n",
              "       [0.9489967 , 0.04531807],\n",
              "       [0.5424923 , 0.5550868 ],\n",
              "       [0.8568388 , 0.14331242],\n",
              "       [0.80358255, 0.22341508],\n",
              "       [0.8440187 , 0.1729764 ],\n",
              "       [0.6606951 , 0.4253923 ],\n",
              "       [0.7225267 , 0.34019905],\n",
              "       [0.33824974, 0.79468477],\n",
              "       [0.5495337 , 0.5633864 ],\n",
              "       [0.74476004, 0.29765168],\n",
              "       [0.5056747 , 0.617183  ],\n",
              "       [0.38468772, 0.7427823 ],\n",
              "       [0.3952697 , 0.73001516],\n",
              "       [0.7179228 , 0.35455945],\n",
              "       [0.866892  , 0.13137543],\n",
              "       [0.643793  , 0.44117284],\n",
              "       [0.35925958, 0.77021074],\n",
              "       [0.5297187 , 0.5700028 ],\n",
              "       [0.7595855 , 0.283231  ],\n",
              "       [0.690531  , 0.38131   ],\n",
              "       [0.36484832, 0.763931  ],\n",
              "       [0.5935135 , 0.50587785],\n",
              "       [0.3293875 , 0.8030703 ],\n",
              "       [0.96759   , 0.02643996],\n",
              "       [0.8719727 , 0.13644257],\n",
              "       [0.41339168, 0.71132743],\n",
              "       [0.61433357, 0.4674562 ],\n",
              "       [0.39146286, 0.7374835 ],\n",
              "       [0.61883426, 0.47582188],\n",
              "       [0.86249804, 0.14888817],\n",
              "       [0.41311848, 0.7164598 ],\n",
              "       [0.31857327, 0.8166505 ],\n",
              "       [0.6955681 , 0.35568047],\n",
              "       [0.7498927 , 0.29312456],\n",
              "       [0.839928  , 0.18015149],\n",
              "       [0.5143621 , 0.59415656],\n",
              "       [0.9224178 , 0.0756298 ],\n",
              "       [0.7880721 , 0.25518942],\n",
              "       [0.6155249 , 0.47272044],\n",
              "       [0.39300585, 0.7321611 ],\n",
              "       [0.59769446, 0.48202223],\n",
              "       [0.29015803, 0.8509493 ],\n",
              "       [0.29996908, 0.8398895 ],\n",
              "       [0.904433  , 0.09882337],\n",
              "       [0.8728107 , 0.14215654],\n",
              "       [0.43765175, 0.68858033],\n",
              "       [0.6820807 , 0.38743442],\n",
              "       [0.41562766, 0.7062259 ],\n",
              "       [0.6959517 , 0.37196463],\n",
              "       [0.4263023 , 0.70177007]], dtype=float32)"
            ]
          },
          "metadata": {},
          "execution_count": 25
        }
      ]
    },
    {
      "cell_type": "code",
      "source": [
        "y_test"
      ],
      "metadata": {
        "colab": {
          "base_uri": "https://localhost:8080/"
        },
        "id": "w9I_pvIWBTil",
        "outputId": "85b7fc01-fb33-4ebc-f329-b40dbcd8aba1"
      },
      "execution_count": 26,
      "outputs": [
        {
          "output_type": "execute_result",
          "data": {
            "text/plain": [
              "array([[0., 1.],\n",
              "       [0., 1.],\n",
              "       [0., 1.],\n",
              "       [0., 1.],\n",
              "       [1., 0.],\n",
              "       [1., 0.],\n",
              "       [0., 1.],\n",
              "       [0., 1.],\n",
              "       [1., 0.],\n",
              "       [0., 1.],\n",
              "       [0., 1.],\n",
              "       [0., 1.],\n",
              "       [1., 0.],\n",
              "       [1., 0.],\n",
              "       [0., 1.],\n",
              "       [1., 0.],\n",
              "       [1., 0.],\n",
              "       [1., 0.],\n",
              "       [1., 0.],\n",
              "       [1., 0.],\n",
              "       [1., 0.],\n",
              "       [1., 0.],\n",
              "       [1., 0.],\n",
              "       [1., 0.],\n",
              "       [0., 1.],\n",
              "       [1., 0.],\n",
              "       [1., 0.],\n",
              "       [0., 1.],\n",
              "       [0., 1.],\n",
              "       [0., 1.],\n",
              "       [1., 0.],\n",
              "       [0., 1.],\n",
              "       [1., 0.],\n",
              "       [0., 1.],\n",
              "       [1., 0.],\n",
              "       [1., 0.],\n",
              "       [1., 0.],\n",
              "       [0., 1.],\n",
              "       [1., 0.],\n",
              "       [1., 0.],\n",
              "       [1., 0.],\n",
              "       [1., 0.],\n",
              "       [1., 0.],\n",
              "       [1., 0.],\n",
              "       [1., 0.],\n",
              "       [1., 0.],\n",
              "       [1., 0.],\n",
              "       [1., 0.],\n",
              "       [0., 1.],\n",
              "       [1., 0.],\n",
              "       [0., 1.],\n",
              "       [1., 0.],\n",
              "       [0., 1.],\n",
              "       [1., 0.],\n",
              "       [0., 1.],\n",
              "       [0., 1.],\n",
              "       [1., 0.],\n",
              "       [1., 0.],\n",
              "       [1., 0.],\n",
              "       [1., 0.],\n",
              "       [0., 1.],\n",
              "       [1., 0.],\n",
              "       [1., 0.],\n",
              "       [1., 0.],\n",
              "       [0., 1.],\n",
              "       [1., 0.],\n",
              "       [1., 0.],\n",
              "       [1., 0.],\n",
              "       [0., 1.],\n",
              "       [1., 0.],\n",
              "       [1., 0.],\n",
              "       [1., 0.],\n",
              "       [1., 0.],\n",
              "       [1., 0.],\n",
              "       [1., 0.],\n",
              "       [1., 0.],\n",
              "       [1., 0.],\n",
              "       [0., 1.],\n",
              "       [0., 1.],\n",
              "       [0., 1.],\n",
              "       [1., 0.],\n",
              "       [0., 1.],\n",
              "       [0., 1.],\n",
              "       [1., 0.],\n",
              "       [0., 1.],\n",
              "       [1., 0.],\n",
              "       [1., 0.],\n",
              "       [1., 0.],\n",
              "       [1., 0.],\n",
              "       [1., 0.],\n",
              "       [1., 0.],\n",
              "       [1., 0.],\n",
              "       [1., 0.],\n",
              "       [1., 0.],\n",
              "       [0., 1.],\n",
              "       [1., 0.],\n",
              "       [1., 0.],\n",
              "       [1., 0.],\n",
              "       [0., 1.],\n",
              "       [1., 0.],\n",
              "       [1., 0.],\n",
              "       [0., 1.],\n",
              "       [0., 1.],\n",
              "       [0., 1.],\n",
              "       [1., 0.],\n",
              "       [1., 0.],\n",
              "       [1., 0.],\n",
              "       [1., 0.],\n",
              "       [0., 1.],\n",
              "       [0., 1.],\n",
              "       [0., 1.],\n",
              "       [1., 0.],\n",
              "       [1., 0.],\n",
              "       [1., 0.],\n",
              "       [0., 1.],\n",
              "       [0., 1.],\n",
              "       [0., 1.],\n",
              "       [1., 0.],\n",
              "       [1., 0.],\n",
              "       [1., 0.],\n",
              "       [1., 0.],\n",
              "       [0., 1.],\n",
              "       [1., 0.],\n",
              "       [0., 1.],\n",
              "       [0., 1.],\n",
              "       [1., 0.],\n",
              "       [0., 1.],\n",
              "       [1., 0.],\n",
              "       [0., 1.],\n",
              "       [0., 1.],\n",
              "       [1., 0.],\n",
              "       [0., 1.],\n",
              "       [1., 0.],\n",
              "       [1., 0.],\n",
              "       [0., 1.],\n",
              "       [1., 0.],\n",
              "       [1., 0.],\n",
              "       [1., 0.],\n",
              "       [1., 0.],\n",
              "       [0., 1.],\n",
              "       [1., 0.],\n",
              "       [1., 0.],\n",
              "       [1., 0.],\n",
              "       [0., 1.],\n",
              "       [1., 0.],\n",
              "       [1., 0.],\n",
              "       [1., 0.],\n",
              "       [0., 1.],\n",
              "       [1., 0.],\n",
              "       [0., 1.],\n",
              "       [1., 0.],\n",
              "       [0., 1.],\n",
              "       [0., 1.],\n",
              "       [1., 0.],\n",
              "       [0., 1.],\n",
              "       [1., 0.],\n",
              "       [1., 0.],\n",
              "       [1., 0.],\n",
              "       [0., 1.],\n",
              "       [1., 0.],\n",
              "       [1., 0.],\n",
              "       [0., 1.],\n",
              "       [0., 1.],\n",
              "       [1., 0.],\n",
              "       [1., 0.],\n",
              "       [1., 0.],\n",
              "       [1., 0.],\n",
              "       [1., 0.],\n",
              "       [1., 0.],\n",
              "       [1., 0.],\n",
              "       [1., 0.],\n",
              "       [1., 0.],\n",
              "       [0., 1.],\n",
              "       [0., 1.],\n",
              "       [1., 0.],\n",
              "       [1., 0.],\n",
              "       [1., 0.],\n",
              "       [1., 0.],\n",
              "       [1., 0.],\n",
              "       [1., 0.],\n",
              "       [1., 0.],\n",
              "       [0., 1.],\n",
              "       [0., 1.],\n",
              "       [1., 0.],\n",
              "       [0., 1.],\n",
              "       [1., 0.],\n",
              "       [1., 0.],\n",
              "       [0., 1.],\n",
              "       [1., 0.],\n",
              "       [1., 0.],\n",
              "       [1., 0.],\n",
              "       [0., 1.]], dtype=float32)"
            ]
          },
          "metadata": {},
          "execution_count": 26
        }
      ]
    },
    {
      "cell_type": "code",
      "source": [
        "y_test = np.argmax(y_test,axis = 1)\n",
        "y_predict = np.argmax(y_pred,axis=1)"
      ],
      "metadata": {
        "id": "sL4Cb0yVBVTG"
      },
      "execution_count": 27,
      "outputs": []
    },
    {
      "cell_type": "code",
      "source": [
        "y_test.shape"
      ],
      "metadata": {
        "colab": {
          "base_uri": "https://localhost:8080/"
        },
        "id": "3ZtBDWokBicl",
        "outputId": "899b54ab-745d-4226-fb16-3a6ed25175a8"
      },
      "execution_count": 28,
      "outputs": [
        {
          "output_type": "execute_result",
          "data": {
            "text/plain": [
              "(192,)"
            ]
          },
          "metadata": {},
          "execution_count": 28
        }
      ]
    },
    {
      "cell_type": "code",
      "source": [
        "y_predict"
      ],
      "metadata": {
        "colab": {
          "base_uri": "https://localhost:8080/"
        },
        "id": "lH2ahthqBkKl",
        "outputId": "a47f8a28-7f9d-4715-86e3-6ca255c7979d"
      },
      "execution_count": 29,
      "outputs": [
        {
          "output_type": "execute_result",
          "data": {
            "text/plain": [
              "array([0, 1, 1, 1, 1, 1, 1, 1, 1, 0, 1, 0, 0, 1, 1, 1, 0, 0, 0, 0, 0, 0,\n",
              "       1, 0, 1, 0, 0, 1, 0, 1, 0, 0, 0, 1, 0, 0, 0, 1, 0, 1, 0, 0, 0, 0,\n",
              "       0, 0, 0, 0, 1, 0, 1, 0, 0, 0, 1, 1, 1, 0, 1, 1, 1, 0, 0, 0, 1, 1,\n",
              "       0, 0, 1, 1, 1, 1, 0, 0, 0, 0, 0, 1, 1, 1, 1, 1, 0, 0, 0, 0, 1, 0,\n",
              "       0, 0, 0, 0, 0, 0, 1, 1, 0, 0, 1, 0, 0, 0, 1, 0, 0, 0, 1, 0, 1, 0,\n",
              "       1, 0, 1, 1, 0, 1, 1, 0, 0, 1, 0, 1, 0, 0, 0, 0, 1, 0, 1, 0, 0, 1,\n",
              "       0, 0, 1, 0, 0, 1, 0, 0, 0, 0, 0, 1, 0, 0, 0, 0, 0, 1, 1, 0, 1, 1,\n",
              "       1, 0, 0, 0, 1, 1, 0, 0, 1, 0, 1, 0, 0, 1, 0, 1, 0, 0, 1, 1, 0, 0,\n",
              "       0, 1, 0, 0, 0, 1, 0, 1, 1, 0, 0, 1, 0, 1, 0, 1])"
            ]
          },
          "metadata": {},
          "execution_count": 29
        }
      ]
    },
    {
      "cell_type": "code",
      "source": [
        "confumat = metrics.confusion_matrix(y_test,y_predict)"
      ],
      "metadata": {
        "id": "CSF0822jBnoP"
      },
      "execution_count": 30,
      "outputs": []
    },
    {
      "cell_type": "code",
      "source": [
        "confumat"
      ],
      "metadata": {
        "colab": {
          "base_uri": "https://localhost:8080/"
        },
        "id": "GPop6u_9Bwns",
        "outputId": "b07feb4d-77d6-499d-8b6d-f8f0714f55ff"
      },
      "execution_count": 31,
      "outputs": [
        {
          "output_type": "execute_result",
          "data": {
            "text/plain": [
              "array([[94, 31],\n",
              "       [20, 47]])"
            ]
          },
          "metadata": {},
          "execution_count": 31
        }
      ]
    },
    {
      "cell_type": "code",
      "source": [
        "result = metrics.classification_report(y_test,y_predict)\n",
        "print()\n",
        "print('Classification Results')\n",
        "print(result)"
      ],
      "metadata": {
        "colab": {
          "base_uri": "https://localhost:8080/"
        },
        "id": "QvTLWvtSBxt9",
        "outputId": "dda076bd-5f70-4daa-c903-e12a7e08e556"
      },
      "execution_count": 32,
      "outputs": [
        {
          "output_type": "stream",
          "name": "stdout",
          "text": [
            "\n",
            "Classification Results\n",
            "              precision    recall  f1-score   support\n",
            "\n",
            "           0       0.82      0.75      0.79       125\n",
            "           1       0.60      0.70      0.65        67\n",
            "\n",
            "    accuracy                           0.73       192\n",
            "   macro avg       0.71      0.73      0.72       192\n",
            "weighted avg       0.75      0.73      0.74       192\n",
            "\n"
          ]
        }
      ]
    },
    {
      "cell_type": "code",
      "source": [
        ""
      ],
      "metadata": {
        "id": "2qP-RuqMwb3s"
      },
      "execution_count": 32,
      "outputs": []
    }
  ]
}